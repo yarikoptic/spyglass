{
 "cells": [
  {
   "cell_type": "markdown",
   "metadata": {},
   "source": [
    "## This notebook contains instructions for setting up Spyglass data sharing through Kachery cloud."
   ]
  },
  {
   "attachments": {},
   "cell_type": "markdown",
   "metadata": {},
   "source": [
    "### Overview of functionality\n",
    "Spyglass uses Kachery Cloud (https://github.com/flatironinstitute/kachery-cloud) to make it possible to share analysis results (stored in NWB files) with others who do not have access to the filesystem where the original files are stored. \n",
    "\n",
    "When a user tries to access an AnalysisNWB file, Spyglass does the following:\n",
    "1. Try to load it from the local store. \n",
    "2. If it is not available, check if the file is in the relevant sharing table (NwbKachery or AnalysisNWBKachery).\n",
    "3. If so, attempt to download from the associated Kachery Resource.\n",
    "\n",
    "Note that large file downloads may take a long time, so we currently do not support sharing of the main NWB files in this way. We suggest direct transfer of these files with globus or a similar service."
   ]
  },
  {
   "attachments": {},
   "cell_type": "markdown",
   "metadata": {},
   "source": [
    "### Overview of setup\n",
    "\n",
    "The Frank laboratory has three separate Kachery zones:\n",
    "1. franklab.default         \n",
    "        Used for all internal file sharing, including figurls\n",
    "2. franklab.collaborator    \n",
    "        Used for files that should be shared with collaborating labs.\n",
    "3. franklab.public          \n",
    "        Used for files that are publicly accessible (not yet active)\n",
    "\n",
    "You may or may not want to set up a similar list on your systems depending on your sharing needs, and as each zone is setup in the same way, you can choose how many zones to establish or add new zones later relatively easily.\n",
    "\n"
   ]
  },
  {
   "cell_type": "markdown",
   "metadata": {},
   "source": [
    "#### Setting up Kachery zones.\n",
    "\n",
    "The instructions for setting up each zone can be found at https://github.com/flatironinstitute/kachery-cloud/blob/main/doc/create_kachery_zone.md \n",
    "<br>\n",
    "<br>\n",
    "These instructions walk you through the process of creating a cloud bucket and registering it with the Kachery team. Note that the bucket names cannot include periods, so we substite a dash, as in \"franklab-default\".\n",
    "\n",
    "1. Follow the instructions for the first zone you want to create.\n",
    "2. Follow the same instructions for the subsequent zones, but note that you can skip the \n",
    "Click \"Create API Token\" step"
   ]
  },
  {
   "attachments": {},
   "cell_type": "markdown",
   "metadata": {},
   "source": [
    "#### Setting up Kachery resources.\n",
    "\n",
    "If you want to share files on demand from a zone, you need to set up a resource for that zone, following the instructions at https://github.com/scratchrealm/kachery-resource/blob/main/README.md\n",
    "\n",
    "We suggest making the name of the zone and the resource identical to make things easy.\n",
    "\n",
    "Note that for each zone, you need to run the local daemon that listens for requests from that zone. An example of the bash script we use is\n",
    "```\n",
    "#!/bin/bash\n",
    "export KACHERY_ZONE=franklab.collaborators\n",
    "export KACHERY_CLOUD_DIR=/stelmo/nwb/.kachery_cloud\n",
    "cd /stelmo/nwb/franklab_collaborators_resource\n",
    "npx kachery-resource@latest share\n"
   ]
  },
  {
   "attachments": {},
   "cell_type": "markdown",
   "metadata": {},
   "source": [
    "### Add zones/resources to your Spyglass database\n",
    "\n",
    "Once the zones and resources exist, you need to add them to the database\n",
    "\n",
    "First we import spyglass, etc. "
   ]
  },
  {
   "cell_type": "code",
   "execution_count": 31,
   "metadata": {
    "tags": []
   },
   "outputs": [],
   "source": [
    "import spyglass as sg\n",
    "from spyglass.common import Lab, AnalysisNwbfile\n",
    "from spyglass.sharing import (KacheryZone, NwbfileKacherySelection, NwbfileKachery, \n",
    "                              AnalysisNwbfileKachery, AnalysisNwbfileKacherySelection)\n",
    "import warnings\n",
    "warnings.filterwarnings('ignore')"
   ]
  },
  {
   "attachments": {},
   "cell_type": "markdown",
   "metadata": {},
   "source": [
    "We start by inserting into the KacheryZone table, which will be empty if you're just starting out. \n",
    "change the entries in zone_key below to match your zone.\n",
    "\n",
    "Note that the lab_name is a reference to the Lab() table, so get the name from there to match a lab that is defined already."
   ]
  },
  {
   "cell_type": "code",
   "execution_count": 20,
   "metadata": {},
   "outputs": [
    {
     "data": {
      "text/html": [
       "\n",
       "    \n",
       "    <style type=\"text/css\">\n",
       "        .Table{\n",
       "            border-collapse:collapse;\n",
       "        }\n",
       "        .Table th{\n",
       "            background: #A0A0A0; color: #ffffff; padding:4px; border:#f0e0e0 1px solid;\n",
       "            font-weight: normal; font-family: monospace; font-size: 100%;\n",
       "        }\n",
       "        .Table td{\n",
       "            padding:4px; border:#f0e0e0 1px solid; font-size:100%;\n",
       "        }\n",
       "        .Table tr:nth-child(odd){\n",
       "            background: #ffffff;\n",
       "        }\n",
       "        .Table tr:nth-child(even){\n",
       "            background: #f3f1ff;\n",
       "        }\n",
       "        /* Tooltip container */\n",
       "        .djtooltip {\n",
       "        }\n",
       "        /* Tooltip text */\n",
       "        .djtooltip .djtooltiptext {\n",
       "            visibility: hidden;\n",
       "            width: 120px;\n",
       "            background-color: black;\n",
       "            color: #fff;\n",
       "            text-align: center;\n",
       "            padding: 5px 0;\n",
       "            border-radius: 6px;\n",
       "            /* Position the tooltip text - see examples below! */\n",
       "            position: absolute;\n",
       "            z-index: 1;\n",
       "        }\n",
       "        #primary {\n",
       "            font-weight: bold;\n",
       "            color: black;\n",
       "        }\n",
       "        #nonprimary {\n",
       "            font-weight: normal;\n",
       "            color: white;\n",
       "        }\n",
       "\n",
       "        /* Show the tooltip text when you mouse over the tooltip container */\n",
       "        .djtooltip:hover .djtooltiptext {\n",
       "            visibility: visible;\n",
       "        }\n",
       "    </style>\n",
       "    \n",
       "    <b></b>\n",
       "        <div style=\"max-height:1000px;max-width:1500px;overflow:auto;\">\n",
       "        <table border=\"1\" class=\"Table\">\n",
       "            <thead> <tr style=\"text-align: right;\"> <th> <div class=\"djtooltip\">\n",
       "                            <p id=\"primary\">kachery_zone_name</p>\n",
       "                            <span class=\"djtooltiptext\">the name of the kachery zone. Note that this is the same as the name of the kachery resource.</span>\n",
       "                        </div></th><th><div class=\"djtooltip\">\n",
       "                            <p id=\"nonprimary\">description</p>\n",
       "                            <span class=\"djtooltiptext\">description of this zone</span>\n",
       "                        </div></th><th><div class=\"djtooltip\">\n",
       "                            <p id=\"nonprimary\">kachery_cloud_dir</p>\n",
       "                            <span class=\"djtooltiptext\">kachery cloud directory on local machine where files are linked</span>\n",
       "                        </div></th><th><div class=\"djtooltip\">\n",
       "                            <p id=\"nonprimary\">kachery_proxy</p>\n",
       "                            <span class=\"djtooltiptext\">kachery sharing proxy</span>\n",
       "                        </div></th><th><div class=\"djtooltip\">\n",
       "                            <p id=\"nonprimary\">lab_name</p>\n",
       "                            <span class=\"djtooltiptext\"></span>\n",
       "                        </div> </th> </tr> </thead>\n",
       "            <tbody> <tr> <td>franklab.default</td>\n",
       "<td>internal franklab kachery zone</td>\n",
       "<td>/stelmo/nwb/.kachery_cloud</td>\n",
       "<td>https://kachery-resource-proxy.herokuapp.com</td>\n",
       "<td>Loren Frank</td> </tr> </tbody>\n",
       "        </table>\n",
       "        \n",
       "        <p>Total: 1</p></div>\n",
       "        "
      ],
      "text/plain": [
       "*kachery_zone_ description    kachery_cloud_ kachery_proxy  lab_name      \n",
       "+------------+ +------------+ +------------+ +------------+ +------------+\n",
       "franklab.defau internal frank /stelmo/nwb/.k https://kacher Loren Frank   \n",
       " (Total: 1)"
      ]
     },
     "execution_count": 20,
     "metadata": {},
     "output_type": "execute_result"
    }
   ],
   "source": [
    "KacheryZone()"
   ]
  },
  {
   "cell_type": "code",
   "execution_count": null,
   "metadata": {},
   "outputs": [],
   "source": [
    "zone_key = {'kachery_zone_name': 'franklab.collaborators', \n",
    "            'description'      : 'franklab collaborator zone',\n",
    "            'kachery_cloud_dir': '/stelmo/nwb/.kachery_cloud',\n",
    "            'kachery_proxy'    : 'https://kachery-resource-proxy.herokuapp.com',\n",
    "            'lab_name'         : 'Loren Frank'}\n",
    "KacheryZone().insert1(zone_key)"
   ]
  },
  {
   "attachments": {},
   "cell_type": "markdown",
   "metadata": {},
   "source": [
    "Now that our zone exists, all we have to do is add the AnalysisNWB files that we want to share. To do so, add entries to the AnalysisNwbfileKacherySelectionTable as sketched out below"
   ]
  },
  {
   "cell_type": "code",
   "execution_count": 14,
   "metadata": {},
   "outputs": [
    {
     "name": "stdout",
     "output_type": "stream",
     "text": [
      "NWB file /Users/loren/data/nwb/analysis/wilbur20210331/wilbur20210331_VZJAR6N0QM.nwb does not exist locally; checking kachery\n",
      "uri: sha1://52995d7ffffcbcee8214dca923f2ba75fe6abb4c\n",
      "File uploading\n",
      "Downloading file\n"
     ]
    }
   ],
   "source": [
    "#note that this would share all AnalysisFiles associated with a given nwb_file\n",
    "nwb_file_name = \"your_file_.nwb\"\n",
    "\n",
    "analysis_file_list = (AnalysisNwbfile() & {'nwb_file_name': nwb_file_name}).fetch('analysis_file_name')]\n",
    "\n",
    "anks_key = {'kachery_zone_name': 'franklab.collaborators', 'analysis_file_name': ''}\n",
    "for file in analysis_file_list:\n",
    "    anks_key['analysis_file_name'] = file\n",
    "    AnalysisNwbfileKacherySelection.insert1(anks_key)\n"
   ]
  },
  {
   "attachments": {},
   "cell_type": "markdown",
   "metadata": {
    "tags": []
   },
   "source": [
    "Now that we have those files in the selection table, we can add them as links to the kachery zone by populating the AnalysisNwbfileKachery table:"
   ]
  },
  {
   "cell_type": "code",
   "execution_count": 32,
   "metadata": {
    "tags": []
   },
   "outputs": [],
   "source": [
    "AnalysisNwbfileKachery.populate()"
   ]
  },
  {
   "attachments": {},
   "cell_type": "markdown",
   "metadata": {
    "collapsed": true,
    "jupyter": {
     "outputs_hidden": true
    },
    "tags": []
   },
   "source": [
    "If all of that worked, \n",
    "\n",
    "1) go to https://kachery-gateway.figurl.org/admin?zone=your_zone\n",
    "(changing your_zone to the name of your zone)\n",
    "2) Go to the Admin/Authorization Settings tab\n",
    "3) Add the github login names and permissions for the users you want to share with. \n",
    "\n",
    "If those users can connect to your database, they should now be able to use the .fetch_nwb() method to download any AnalysisNwbfiles that have been shared through Kachery.\n"
   ]
  },
  {
   "cell_type": "markdown",
   "metadata": {},
   "source": []
  }
 ],
 "metadata": {
  "kernelspec": {
   "display_name": "spyglass",
   "language": "python",
   "name": "python3"
  },
  "language_info": {
   "codemirror_mode": {
    "name": "ipython",
    "version": 3
   },
   "file_extension": ".py",
   "mimetype": "text/x-python",
   "name": "python",
   "nbconvert_exporter": "python",
   "pygments_lexer": "ipython3",
   "version": "3.9.16"
  },
  "vscode": {
   "interpreter": {
    "hash": "a172adcc57043bf031ddf85b5016360bc9bbefd0c359647f76b348e9e6923166"
   }
  }
 },
 "nbformat": 4,
 "nbformat_minor": 4
}
